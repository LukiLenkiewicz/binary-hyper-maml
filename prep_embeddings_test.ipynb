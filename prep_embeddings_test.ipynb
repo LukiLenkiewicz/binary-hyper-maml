{
 "cells": [
  {
   "cell_type": "code",
   "execution_count": 83,
   "metadata": {},
   "outputs": [],
   "source": [
    "from PIL import Image\n",
    "from transformers import ViTImageProcessor, ViTModel, CLIPImageProcessor, CLIPModel"
   ]
  },
  {
   "cell_type": "code",
   "execution_count": 106,
   "metadata": {},
   "outputs": [],
   "source": [
    "import torch\n",
    "import torch.nn as nn\n",
    "\n",
    "class Hypernetwork(nn.Module):\n",
    "    def __init__(self, input_size, num_layers, layer_size, chunk_size, chunk_emb_size, num_chunks):\n",
    "        super().__init__()\n",
    "        self.num_chunks = num_chunks\n",
    "        self.chunk_embeddings = self._generate_chunk_embeddings(chunk_emb_size, num_chunks) \n",
    "        \n",
    "        input_size = input_size + chunk_emb_size\n",
    "        hypernet_layers = self._prepare_layers(num_layers, layer_size, input_size, chunk_size)\n",
    "        self.hypernet = nn.Sequential(*hypernet_layers)\n",
    "\n",
    "    def forward(self, x):\n",
    "        fast_weights = []\n",
    "        for chunk_emb in self.chunk_embeddings:\n",
    "            cat_ = torch.cat((x, chunk_emb), dim=1)\n",
    "            fast_weight_chunk = self.hypernet(cat_)\n",
    "            fast_weights.append(fast_weight_chunk)\n",
    "\n",
    "        fast_weights = self._merge_layers(fast_weights)\n",
    "        \n",
    "        return fast_weights\n",
    "\n",
    "    def _generate_chunk_embeddings(self, chunk_emb_size, num_chunks):\n",
    "        # chunk_embs = [torch.rand((1, chunk_emb_size)) for _ in range(num_chunks)]\n",
    "        chunk_embs = []\n",
    "        for _ in range(num_chunks):\n",
    "            chunk_emb = torch.rand((1, chunk_emb_size))\n",
    "            chunk_emb.requires_grad = True\n",
    "            chunk_embs.append(chunk_emb)\n",
    "        return chunk_embs\n",
    "        \n",
    "    def _prepare_layers(self, num_layers, layer_size, input_size, chunk_size):\n",
    "        input_layer = nn.Linear(in_features=input_size, out_features=layer_size)\n",
    "        layers = [input_layer, nn.ReLU()]\n",
    "        for _ in range(num_layers-1):\n",
    "            layer = nn.Linear(layer_size, layer_size)\n",
    "            layers.append(layer)\n",
    "            layers.append(nn.ReLU())\n",
    "\n",
    "        layers.append(nn.Linear(in_features=layer_size, out_features=chunk_size))\n",
    "        layers.append(nn.Sigmoid())\n",
    "        return layers\n",
    "\n",
    "    def _merge_layers(self, fast_weights):\n",
    "        merged_params = []\n",
    "        for i in range(2):\n",
    "            weights = torch.cat(fast_weights[128*i:128*(i+1)])\n",
    "            bias = fast_weights[128*(i+1)]\n",
    "            merged_params.append(weights)\n",
    "            merged_params.append(bias)\n",
    "        return merged_params"
   ]
  },
  {
   "cell_type": "code",
   "execution_count": 124,
   "metadata": {},
   "outputs": [
    {
     "data": {
      "text/plain": [
       "tensor([[0.2701, 0.4831, 0.0678, 0.8158, 0.6586, 0.2374, 0.9372, 0.5849, 0.3332,\n",
       "         0.5475],\n",
       "        [0.4155, 0.8660, 0.7901, 0.0117, 0.3512, 0.1540, 0.2608, 0.2336, 0.9584,\n",
       "         0.8533],\n",
       "        [0.7711, 0.0750, 0.7570, 0.2116, 0.8449, 0.3310, 0.5233, 0.4935, 0.5692,\n",
       "         0.8548],\n",
       "        [0.2410, 0.4033, 0.0346, 0.5791, 0.8742, 0.3350, 0.2784, 0.8638, 0.5333,\n",
       "         0.1336],\n",
       "        [0.7549, 0.4227, 0.3205, 0.7453, 0.3750, 0.1564, 0.5172, 0.9376, 0.4762,\n",
       "         0.6465],\n",
       "        [0.2722, 0.3496, 0.5941, 0.3617, 0.7450, 0.5976, 0.6280, 0.6096, 0.0921,\n",
       "         0.8017],\n",
       "        [0.0909, 0.3052, 0.9453, 0.5750, 0.3455, 0.1266, 0.5642, 0.8431, 0.8943,\n",
       "         0.2658],\n",
       "        [0.8484, 0.7801, 0.4151, 0.6903, 0.1282, 0.4697, 0.8956, 0.7785, 0.4286,\n",
       "         0.6014],\n",
       "        [0.7970, 0.4235, 0.7062, 0.7118, 0.9265, 0.7303, 0.1134, 0.7578, 0.4059,\n",
       "         0.0086],\n",
       "        [0.0134, 0.3952, 0.3379, 0.1137, 0.3951, 0.2595, 0.6568, 0.4998, 0.4328,\n",
       "         0.0871]], requires_grad=True)"
      ]
     },
     "execution_count": 124,
     "metadata": {},
     "output_type": "execute_result"
    }
   ],
   "source": [
    "t = torch.rand(10, 10)\n",
    "\n",
    "t.requires_grad = True\n",
    "t"
   ]
  },
  {
   "cell_type": "code",
   "execution_count": 107,
   "metadata": {},
   "outputs": [],
   "source": [
    "import torch.nn.functional as F\n",
    "\n",
    "class Linear_fw(nn.Linear):\n",
    "    def __init__(self, in_features, out_features):\n",
    "        super().__init__(in_features, out_features)\n",
    "        self.weight.fast = self.weight\n",
    "        self.bias.fast = self.bias\n",
    "\n",
    "    def forward(self, x):\n",
    "        if self.weight.fast is not None and self.bias.fast is not None:\n",
    "            out = F.linear(x, self.weight.fast, self.bias.fast)\n",
    "        else:\n",
    "            out = F.linear(x, self.weight, self.bias)\n",
    "        return out"
   ]
  },
  {
   "cell_type": "code",
   "execution_count": 108,
   "metadata": {},
   "outputs": [],
   "source": [
    "class MLP_FW(nn.Module):\n",
    "    def __init__(self, input_size, num_layers, layer_size, num_classes):\n",
    "        super().__init__()\n",
    "        layers = self._generate_layers(input_size, num_layers, layer_size, num_classes)\n",
    "        \n",
    "        self.net = nn.Sequential(*layers)\n",
    "\n",
    "    def _generate_layers(self, input_size, num_layers, layer_size, num_classes):\n",
    "        layers = [Linear_fw(input_size, layer_size), nn.ReLU()]\n",
    "        for _ in range(num_layers-2):\n",
    "            layers.append(Linear_fw(layer_size, layer_size))\n",
    "            layers.append(nn.ReLU())\n",
    "\n",
    "        layers.append(Linear_fw(layer_size, num_classes))\n",
    "        layers.append(nn.ReLU())\n",
    "\n",
    "        return layers\n",
    "    \n",
    "    def _update_weight(self, weight, update_value):\n",
    "            weight.fast = weight * update_value"
   ]
  },
  {
   "cell_type": "code",
   "execution_count": 109,
   "metadata": {},
   "outputs": [],
   "source": [
    "mlp = MLP_FW(768, 4, 128, 5)"
   ]
  },
  {
   "cell_type": "code",
   "execution_count": 110,
   "metadata": {},
   "outputs": [],
   "source": [
    "input_embedding = torch.rand((1,5*768))"
   ]
  },
  {
   "cell_type": "code",
   "execution_count": 111,
   "metadata": {},
   "outputs": [],
   "source": [
    "hypernet = Hypernetwork(input_size=5*768, num_layers=4, layer_size=500, chunk_size=128, chunk_emb_size=8, num_chunks=129*2)"
   ]
  },
  {
   "cell_type": "code",
   "execution_count": 112,
   "metadata": {},
   "outputs": [],
   "source": [
    "updates = hypernet(input_embedding)"
   ]
  },
  {
   "cell_type": "code",
   "execution_count": 120,
   "metadata": {},
   "outputs": [],
   "source": [
    "for k, weight in enumerate(list(mlp.parameters())[2:-2]):\n",
    "    update_value = updates[k]\n",
    "    mlp._update_weight(weight, update_value)"
   ]
  },
  {
   "cell_type": "code",
   "execution_count": 62,
   "metadata": {},
   "outputs": [],
   "source": [
    "from transformers import ViTForImageClassification"
   ]
  },
  {
   "cell_type": "code",
   "execution_count": 10,
   "metadata": {},
   "outputs": [],
   "source": [
    "vit_image_processor = ViTImageProcessor.from_pretrained(\"google/vit-base-patch16-224\")\n",
    "clip_image_processor = CLIPImageProcessor.from_pretrained(\"openai/clip-vit-base-patch32\")\n",
    "\n",
    "img = Image.open(\"/home/lukasz/binary-hyper-maml/filelists/emnist/emnist/13/11.png\").convert('RGB')"
   ]
  },
  {
   "cell_type": "code",
   "execution_count": 125,
   "metadata": {},
   "outputs": [],
   "source": [
    "from torchvision.transforms import ToTensor\n",
    "trans = ToTensor()"
   ]
  },
  {
   "cell_type": "code",
   "execution_count": 126,
   "metadata": {},
   "outputs": [],
   "source": [
    "img_t = trans(img)"
   ]
  },
  {
   "cell_type": "code",
   "execution_count": 133,
   "metadata": {},
   "outputs": [],
   "source": [
    "inputs_t = vit_image_processor(images=img_t, return_tensors=\"pt\", do_rescale=False)\n",
    "pixel_values_t = inputs_t.pixel_values"
   ]
  },
  {
   "cell_type": "code",
   "execution_count": 130,
   "metadata": {},
   "outputs": [],
   "source": [
    "inputs = vit_image_processor(images=img, return_tensors=\"pt\")\n",
    "pixel_values = inputs.pixel_values"
   ]
  },
  {
   "cell_type": "code",
   "execution_count": 14,
   "metadata": {},
   "outputs": [],
   "source": [
    "model = ViTForImageClassification.from_pretrained('google/vit-base-patch16-224')"
   ]
  },
  {
   "cell_type": "code",
   "execution_count": 15,
   "metadata": {},
   "outputs": [],
   "source": [
    "outptut = model(pixel_values)"
   ]
  },
  {
   "cell_type": "code",
   "execution_count": 16,
   "metadata": {},
   "outputs": [
    {
     "data": {
      "text/plain": [
       "torch.Size([1, 1000])"
      ]
     },
     "execution_count": 16,
     "metadata": {},
     "output_type": "execute_result"
    }
   ],
   "source": [
    "outptut[0].shape"
   ]
  },
  {
   "cell_type": "code",
   "execution_count": 17,
   "metadata": {},
   "outputs": [
    {
     "name": "stderr",
     "output_type": "stream",
     "text": [
      "Some weights of ViTModel were not initialized from the model checkpoint at google/vit-base-patch16-224 and are newly initialized: ['vit.pooler.dense.weight', 'vit.pooler.dense.bias']\n",
      "You should probably TRAIN this model on a down-stream task to be able to use it for predictions and inference.\n"
     ]
    }
   ],
   "source": [
    "feature_extractor = ViTModel.from_pretrained('google/vit-base-patch16-224')"
   ]
  },
  {
   "cell_type": "code",
   "execution_count": 18,
   "metadata": {},
   "outputs": [
    {
     "data": {
      "text/plain": [
       "torch.Size([1, 768])"
      ]
     },
     "execution_count": 18,
     "metadata": {},
     "output_type": "execute_result"
    }
   ],
   "source": [
    "outputs = feature_extractor(pixel_values)\n",
    "sequence_output = outputs[0]\n",
    "\n",
    "sequence_output[:, 0, :].shape"
   ]
  },
  {
   "cell_type": "code",
   "execution_count": null,
   "metadata": {},
   "outputs": [],
   "source": []
  }
 ],
 "metadata": {
  "kernelspec": {
   "display_name": "cudaenv",
   "language": "python",
   "name": "python3"
  },
  "language_info": {
   "codemirror_mode": {
    "name": "ipython",
    "version": 3
   },
   "file_extension": ".py",
   "mimetype": "text/x-python",
   "name": "python",
   "nbconvert_exporter": "python",
   "pygments_lexer": "ipython3",
   "version": "3.9.18"
  }
 },
 "nbformat": 4,
 "nbformat_minor": 2
}
