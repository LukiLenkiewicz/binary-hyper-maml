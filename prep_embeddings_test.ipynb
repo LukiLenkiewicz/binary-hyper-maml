{
 "cells": [
  {
   "cell_type": "code",
   "execution_count": 1,
   "metadata": {},
   "outputs": [
    {
     "name": "stderr",
     "output_type": "stream",
     "text": [
      "/home/lukasz/miniconda3/envs/cudaenv/lib/python3.9/site-packages/tqdm/auto.py:21: TqdmWarning: IProgress not found. Please update jupyter and ipywidgets. See https://ipywidgets.readthedocs.io/en/stable/user_install.html\n",
      "  from .autonotebook import tqdm as notebook_tqdm\n"
     ]
    }
   ],
   "source": [
    "from PIL import Image\n",
    "from transformers import ViTImageProcessor, ViTModel, CLIPImageProcessor, CLIPModel"
   ]
  },
  {
   "cell_type": "code",
   "execution_count": 2,
   "metadata": {},
   "outputs": [],
   "source": [
    "import torch\n",
    "import torch.nn as nn\n",
    "\n",
    "class Hypernetwork(nn.Module):\n",
    "    def __init__(self, input_size, num_layers, layer_size, chunk_size, chunk_emb_size, num_chunks):\n",
    "        super().__init__()\n",
    "        self.num_chunks = num_chunks\n",
    "        self.chunk_embeddings = self._generate_chunk_embeddings(chunk_emb_size, num_chunks) \n",
    "        \n",
    "        input_size = input_size + chunk_emb_size\n",
    "        hypernet_layers = self._prepare_layers(num_layers, layer_size, input_size, chunk_size)\n",
    "        self.hypernet = nn.Sequential(*hypernet_layers)\n",
    "\n",
    "    def forward(self, x):\n",
    "        fast_weights = []\n",
    "        for chunk_emb in self.chunk_embeddings:\n",
    "            cat_ = torch.cat((x, chunk_emb), dim=1)\n",
    "            fast_weight_chunk = self.hypernet(cat_)\n",
    "            fast_weights.append(fast_weight_chunk)\n",
    "\n",
    "        fast_weights = self._merge_layers(fast_weights)\n",
    "        \n",
    "        return fast_weights\n",
    "\n",
    "    def _generate_chunk_embeddings(self, chunk_emb_size, num_chunks):\n",
    "        # chunk_embs = [torch.rand((1, chunk_emb_size)) for _ in range(num_chunks)]\n",
    "        chunk_embs = []\n",
    "        for _ in range(num_chunks):\n",
    "            chunk_emb = torch.rand((1, chunk_emb_size))\n",
    "            chunk_emb.requires_grad = True\n",
    "            chunk_embs.append(chunk_emb)\n",
    "        return chunk_embs\n",
    "        \n",
    "    def _prepare_layers(self, num_layers, layer_size, input_size, chunk_size):\n",
    "        input_layer = nn.Linear(in_features=input_size, out_features=layer_size)\n",
    "        layers = [input_layer, nn.ReLU()]\n",
    "        for _ in range(num_layers-1):\n",
    "            layer = nn.Linear(layer_size, layer_size)\n",
    "            layers.append(layer)\n",
    "            layers.append(nn.ReLU())\n",
    "\n",
    "        layers.append(nn.Linear(in_features=layer_size, out_features=chunk_size))\n",
    "        layers.append(nn.Sigmoid())\n",
    "        return layers\n",
    "\n",
    "    def _merge_layers(self, fast_weights):\n",
    "        merged_params = []\n",
    "        for i in range(2):\n",
    "            weights = torch.cat(fast_weights[128*i:128*(i+1)])\n",
    "            bias = fast_weights[128*(i+1)]\n",
    "            merged_params.append(weights)\n",
    "            merged_params.append(bias)\n",
    "        return merged_params"
   ]
  },
  {
   "cell_type": "code",
   "execution_count": 3,
   "metadata": {},
   "outputs": [
    {
     "data": {
      "text/plain": [
       "tensor([[0.2982, 0.4490, 0.8614, 0.7074, 0.0074, 0.5340, 0.6689, 0.1930, 0.9553,\n",
       "         0.7903],\n",
       "        [0.3822, 0.3196, 0.3025, 0.0499, 0.3313, 0.4167, 0.4933, 0.5373, 0.4805,\n",
       "         0.0244],\n",
       "        [0.3341, 0.8582, 0.7997, 0.8608, 0.8872, 0.4590, 0.6981, 0.8417, 0.1348,\n",
       "         0.9034],\n",
       "        [0.7349, 0.0891, 0.6473, 0.3789, 0.1330, 0.9239, 0.6139, 0.2815, 0.1439,\n",
       "         0.4143],\n",
       "        [0.8715, 0.0706, 0.8491, 0.0453, 0.8825, 0.2681, 0.6389, 0.8834, 0.2082,\n",
       "         0.7312],\n",
       "        [0.7164, 0.2481, 0.0909, 0.3928, 0.1614, 0.2715, 0.8836, 0.7845, 0.4650,\n",
       "         0.5475],\n",
       "        [0.3595, 0.0097, 0.7094, 0.8885, 0.3732, 0.9038, 0.3597, 0.7077, 0.0653,\n",
       "         0.0441],\n",
       "        [0.2502, 0.5409, 0.2824, 0.0737, 0.4117, 0.8894, 0.4722, 0.4253, 0.0520,\n",
       "         0.4317],\n",
       "        [0.8255, 0.4520, 0.6172, 0.5317, 0.1815, 0.3860, 0.3008, 0.3991, 0.1640,\n",
       "         0.4964],\n",
       "        [0.5076, 0.5384, 0.5128, 0.2812, 0.7130, 0.8440, 0.5340, 0.7121, 0.9194,\n",
       "         0.7673]], requires_grad=True)"
      ]
     },
     "execution_count": 3,
     "metadata": {},
     "output_type": "execute_result"
    }
   ],
   "source": [
    "t = torch.rand(10, 10)\n",
    "\n",
    "t.requires_grad = True\n",
    "t"
   ]
  },
  {
   "cell_type": "code",
   "execution_count": 4,
   "metadata": {},
   "outputs": [],
   "source": [
    "import torch.nn.functional as F\n",
    "\n",
    "class Linear_fw(nn.Linear):\n",
    "    def __init__(self, in_features, out_features):\n",
    "        super().__init__(in_features, out_features)\n",
    "        self.weight.fast = self.weight\n",
    "        self.bias.fast = self.bias\n",
    "\n",
    "    def forward(self, x):\n",
    "        if self.weight.fast is not None and self.bias.fast is not None:\n",
    "            out = F.linear(x, self.weight.fast, self.bias.fast)\n",
    "        else:\n",
    "            out = F.linear(x, self.weight, self.bias)\n",
    "        return out"
   ]
  },
  {
   "cell_type": "code",
   "execution_count": 5,
   "metadata": {},
   "outputs": [],
   "source": [
    "class MLP_FW(nn.Module):\n",
    "    def __init__(self, input_size, num_layers, layer_size, num_classes):\n",
    "        super().__init__()\n",
    "        layers = self._generate_layers(input_size, num_layers, layer_size, num_classes)\n",
    "        \n",
    "        self.net = nn.Sequential(*layers)\n",
    "\n",
    "    def _generate_layers(self, input_size, num_layers, layer_size, num_classes):\n",
    "        layers = [Linear_fw(input_size, layer_size), nn.ReLU()]\n",
    "        for _ in range(num_layers-2):\n",
    "            layers.append(Linear_fw(layer_size, layer_size))\n",
    "            layers.append(nn.ReLU())\n",
    "\n",
    "        layers.append(Linear_fw(layer_size, num_classes))\n",
    "        layers.append(nn.ReLU())\n",
    "\n",
    "        return layers\n",
    "    \n",
    "    def _update_weight(self, weight, update_value):\n",
    "            weight.fast = weight * update_value"
   ]
  },
  {
   "cell_type": "code",
   "execution_count": 6,
   "metadata": {},
   "outputs": [],
   "source": [
    "mlp = MLP_FW(768, 4, 128, 5)"
   ]
  },
  {
   "cell_type": "code",
   "execution_count": 7,
   "metadata": {},
   "outputs": [],
   "source": [
    "input_embedding = torch.rand((1,5*768))"
   ]
  },
  {
   "cell_type": "code",
   "execution_count": 8,
   "metadata": {},
   "outputs": [],
   "source": [
    "hypernet = Hypernetwork(input_size=5*768, num_layers=4, layer_size=500, chunk_size=128, chunk_emb_size=8, num_chunks=129*2)"
   ]
  },
  {
   "cell_type": "code",
   "execution_count": 9,
   "metadata": {},
   "outputs": [],
   "source": [
    "updates = hypernet(input_embedding)"
   ]
  },
  {
   "cell_type": "code",
   "execution_count": 10,
   "metadata": {},
   "outputs": [],
   "source": [
    "for k, weight in enumerate(list(mlp.parameters())[2:-2]):\n",
    "    update_value = updates[k]\n",
    "    mlp._update_weight(weight, update_value)"
   ]
  },
  {
   "cell_type": "code",
   "execution_count": 11,
   "metadata": {},
   "outputs": [],
   "source": [
    "from transformers import ViTForImageClassification"
   ]
  },
  {
   "cell_type": "code",
   "execution_count": 12,
   "metadata": {},
   "outputs": [],
   "source": [
    "vit_image_processor = ViTImageProcessor.from_pretrained(\"google/vit-base-patch16-224\")\n",
    "clip_image_processor = CLIPImageProcessor.from_pretrained(\"openai/clip-vit-base-patch32\")\n",
    "\n",
    "img = Image.open(\"/home/lukasz/binary-hyper-maml/filelists/emnist/emnist/13/11.png\").convert('RGB')"
   ]
  },
  {
   "cell_type": "code",
   "execution_count": 13,
   "metadata": {},
   "outputs": [],
   "source": [
    "from torchvision.transforms import ToTensor\n",
    "trans = ToTensor()"
   ]
  },
  {
   "cell_type": "code",
   "execution_count": 14,
   "metadata": {},
   "outputs": [],
   "source": [
    "img_t = trans(img)"
   ]
  },
  {
   "cell_type": "code",
   "execution_count": 15,
   "metadata": {},
   "outputs": [],
   "source": [
    "inputs_t = vit_image_processor(images=img_t, return_tensors=\"pt\", do_rescale=False)\n",
    "pixel_values_t = inputs_t.pixel_values"
   ]
  },
  {
   "cell_type": "code",
   "execution_count": 16,
   "metadata": {},
   "outputs": [],
   "source": [
    "inputs = vit_image_processor(images=img, return_tensors=\"pt\")\n",
    "pixel_values = inputs.pixel_values"
   ]
  },
  {
   "cell_type": "code",
   "execution_count": 17,
   "metadata": {},
   "outputs": [],
   "source": [
    "model = ViTForImageClassification.from_pretrained('google/vit-base-patch16-224')"
   ]
  },
  {
   "cell_type": "code",
   "execution_count": 18,
   "metadata": {},
   "outputs": [],
   "source": [
    "outptut = model(pixel_values)"
   ]
  },
  {
   "cell_type": "code",
   "execution_count": 19,
   "metadata": {},
   "outputs": [
    {
     "data": {
      "text/plain": [
       "torch.Size([1, 1000])"
      ]
     },
     "execution_count": 19,
     "metadata": {},
     "output_type": "execute_result"
    }
   ],
   "source": [
    "outptut[0].shape"
   ]
  },
  {
   "cell_type": "code",
   "execution_count": 20,
   "metadata": {},
   "outputs": [
    {
     "name": "stderr",
     "output_type": "stream",
     "text": [
      "Some weights of ViTModel were not initialized from the model checkpoint at google/vit-base-patch16-224 and are newly initialized: ['vit.pooler.dense.weight', 'vit.pooler.dense.bias']\n",
      "You should probably TRAIN this model on a down-stream task to be able to use it for predictions and inference.\n"
     ]
    }
   ],
   "source": [
    "feature_extractor = ViTModel.from_pretrained('google/vit-base-patch16-224')"
   ]
  },
  {
   "cell_type": "code",
   "execution_count": 21,
   "metadata": {},
   "outputs": [
    {
     "data": {
      "text/plain": [
       "torch.Size([1, 768])"
      ]
     },
     "execution_count": 21,
     "metadata": {},
     "output_type": "execute_result"
    }
   ],
   "source": [
    "outputs = feature_extractor(pixel_values)\n",
    "sequence_output = outputs[0]\n",
    "\n",
    "sequence_output[:, 0, :].shape"
   ]
  },
  {
   "cell_type": "code",
   "execution_count": 22,
   "metadata": {},
   "outputs": [],
   "source": [
    "import json\n",
    "import os\n",
    "import torchvision.transforms as transforms\n",
    "from PIL import Image\n",
    "\n",
    "class TransformLoader:\n",
    "    def __init__(self, image_size, \n",
    "                 normalize_param    = dict(mean= [0.485, 0.456, 0.406] , std=[0.229, 0.224, 0.225]),\n",
    "                 jitter_param       = dict(Brightness=0.4, Contrast=0.4, Color=0.4)):\n",
    "        self.image_size = image_size\n",
    "        self.normalize_param = normalize_param\n",
    "        self.jitter_param = jitter_param\n",
    "    \n",
    "    def parse_transform(self, transform_type):\n",
    "        method = getattr(transforms, transform_type)\n",
    "        if transform_type=='RandomResizedCrop':\n",
    "            return method(self.image_size) \n",
    "        elif transform_type=='CenterCrop':\n",
    "            return method(self.image_size) \n",
    "        elif transform_type=='Resize':\n",
    "            return method([int(self.image_size*1.15), int(self.image_size*1.15)])\n",
    "        elif transform_type=='Normalize':\n",
    "            return method(**self.normalize_param )\n",
    "        else:\n",
    "            return method()\n",
    "\n",
    "    def get_composed_transform(self, aug = False):\n",
    "        if aug:\n",
    "            transform_list = ['RandomResizedCrop', 'ImageJitter', 'RandomHorizontalFlip', 'ToTensor', 'Normalize']\n",
    "        else:\n",
    "            transform_list = ['Resize','CenterCrop', 'ToTensor', 'Normalize']\n",
    "\n",
    "        transform_funcs = [ self.parse_transform(x) for x in transform_list]\n",
    "        transform = transforms.Compose(transform_funcs)\n",
    "        return transform\n",
    "\n",
    "identity = lambda x:x\n",
    "\n",
    "class SimpleDataset:\n",
    "    def __init__(self, data_file, transform, target_transform=identity):\n",
    "        with open(data_file, 'r') as f:\n",
    "            self.meta = json.load(f)\n",
    "        self.transform = transform\n",
    "        self.target_transform = target_transform\n",
    "\n",
    "\n",
    "    def __getitem__(self,i):\n",
    "        image_path = os.path.join(self.meta['image_names'][i])\n",
    "        img = Image.open(image_path).convert('RGB')\n",
    "        # img = self.transform(img)\n",
    "        target = self.target_transform(self.meta['image_labels'][i])\n",
    "        return img, target\n",
    "\n",
    "    def __len__(self):\n",
    "        return len(self.meta['image_names'])"
   ]
  },
  {
   "cell_type": "code",
   "execution_count": 38,
   "metadata": {},
   "outputs": [],
   "source": [
    "path = \"/home/lukasz/binary-hyper-maml/filelists/miniImagenet/base.json\""
   ]
  },
  {
   "cell_type": "code",
   "execution_count": 39,
   "metadata": {},
   "outputs": [],
   "source": [
    "transform_loader = TransformLoader(224)\n",
    "transform = transform_loader.get_composed_transform()"
   ]
  },
  {
   "cell_type": "code",
   "execution_count": 40,
   "metadata": {},
   "outputs": [],
   "source": [
    "dataset = SimpleDataset(path, transform)"
   ]
  },
  {
   "cell_type": "code",
   "execution_count": 41,
   "metadata": {},
   "outputs": [],
   "source": [
    "from tqdm import tqdm"
   ]
  },
  {
   "cell_type": "code",
   "execution_count": 42,
   "metadata": {},
   "outputs": [
    {
     "name": "stderr",
     "output_type": "stream",
     "text": [
      "  0%|          | 22/38400 [00:02<1:15:41,  8.45it/s]"
     ]
    }
   ],
   "source": [
    "for data in tqdm(dataset):\n",
    "    img_t, target = data\n",
    "    inputs_t = vit_image_processor(images=img_t, return_tensors=\"pt\", do_rescale=False)\n",
    "    pixel_values_t = inputs_t.pixel_values\n",
    "    outputs = feature_extractor(pixel_values)\n",
    "    sequence_output = outputs[0]\n",
    "\n",
    "    sequence_output[:, 0, :]"
   ]
  },
  {
   "cell_type": "code",
   "execution_count": null,
   "metadata": {},
   "outputs": [],
   "source": []
  }
 ],
 "metadata": {
  "kernelspec": {
   "display_name": "cudaenv",
   "language": "python",
   "name": "python3"
  },
  "language_info": {
   "codemirror_mode": {
    "name": "ipython",
    "version": 3
   },
   "file_extension": ".py",
   "mimetype": "text/x-python",
   "name": "python",
   "nbconvert_exporter": "python",
   "pygments_lexer": "ipython3",
   "version": "3.9.18"
  }
 },
 "nbformat": 4,
 "nbformat_minor": 2
}
