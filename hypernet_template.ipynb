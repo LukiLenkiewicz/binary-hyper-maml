{
 "cells": [
  {
   "cell_type": "code",
   "execution_count": null,
   "metadata": {},
   "outputs": [],
   "source": [
    "import torch\n",
    "import torch.nn as nn\n",
    "\n",
    "class Hypernetwork(nn.Module):\n",
    "    def __init__(self, input_size, num_layers, layer_size, chunk_size, chunk_emb_size, num_chunks):\n",
    "        super().__init__()\n",
    "        self.num_chunks = num_chunks\n",
    "        self.chunk_embeddings = self._generate_chunk_embeddings(chunk_emb_size, num_chunks) \n",
    "        \n",
    "        input_size = input_size + chunk_emb_size\n",
    "        hypernet_layers = self._prepare_layers(num_layers, layer_size, input_size, chunk_size)\n",
    "        self.hypernet = nn.Sequential(*hypernet_layers)\n",
    "\n",
    "    def forward(self, x):\n",
    "        fast_weights = []\n",
    "        for chunk_emb in self.chunk_embeddings:\n",
    "            cat_ = torch.cat((x, chunk_emb), dim=1)\n",
    "            fast_weight_chunk = self.hypernet(cat_)\n",
    "            fast_weights.append(fast_weight_chunk)\n",
    "\n",
    "        fast_weights = self._merge_layers(fast_weights)\n",
    "        \n",
    "        return fast_weights\n",
    "\n",
    "    def _generate_chunk_embeddings(self, chunk_emb_size, num_chunks):\n",
    "        # chunk_embs = [torch.rand((1, chunk_emb_size)) for _ in range(num_chunks)]\n",
    "        chunk_embs = []\n",
    "        for _ in range(num_chunks):\n",
    "            chunk_emb = torch.rand((1, chunk_emb_size))\n",
    "            chunk_emb.requires_grad = True\n",
    "            chunk_embs.append(chunk_emb)\n",
    "        return chunk_embs\n",
    "        \n",
    "    def _prepare_layers(self, num_layers, layer_size, input_size, chunk_size):\n",
    "        input_layer = nn.Linear(in_features=input_size, out_features=layer_size)\n",
    "        layers = [input_layer, nn.ReLU()]\n",
    "        for _ in range(num_layers-1):\n",
    "            layer = nn.Linear(layer_size, layer_size)\n",
    "            layers.append(layer)\n",
    "            layers.append(nn.ReLU())\n",
    "\n",
    "        layers.append(nn.Linear(in_features=layer_size, out_features=chunk_size))\n",
    "        layers.append(nn.Sigmoid())\n",
    "        return layers\n",
    "\n",
    "    def _merge_layers(self, fast_weights):\n",
    "        merged_params = []\n",
    "        for i in range(2):\n",
    "            weights = torch.cat(fast_weights[128*i:128*(i+1)])\n",
    "            bias = fast_weights[128*(i+1)]\n",
    "            merged_params.append(weights)\n",
    "            merged_params.append(bias)\n",
    "        return merged_params"
   ]
  },
  {
   "cell_type": "code",
   "execution_count": null,
   "metadata": {},
   "outputs": [],
   "source": [
    "import torch.nn.functional as F\n",
    "\n",
    "class Linear_fw(nn.Linear):\n",
    "    def __init__(self, in_features, out_features):\n",
    "        super().__init__(in_features, out_features)\n",
    "        self.weight.fast = self.weight\n",
    "        self.bias.fast = self.bias\n",
    "\n",
    "    def forward(self, x):\n",
    "        if self.weight.fast is not None and self.bias.fast is not None:\n",
    "            out = F.linear(x, self.weight.fast, self.bias.fast)\n",
    "        else:\n",
    "            out = F.linear(x, self.weight, self.bias)\n",
    "        return out"
   ]
  },
  {
   "cell_type": "code",
   "execution_count": null,
   "metadata": {},
   "outputs": [],
   "source": [
    "class MLP_FW(nn.Module):\n",
    "    def __init__(self, input_size, num_layers, layer_size, num_classes):\n",
    "        super().__init__()\n",
    "        layers = self._generate_layers(input_size, num_layers, layer_size, num_classes)\n",
    "        \n",
    "        self.net = nn.Sequential(*layers)\n",
    "\n",
    "    def _generate_layers(self, input_size, num_layers, layer_size, num_classes):\n",
    "        layers = [Linear_fw(input_size, layer_size), nn.ReLU()]\n",
    "        for _ in range(num_layers-2):\n",
    "            layers.append(Linear_fw(layer_size, layer_size))\n",
    "            layers.append(nn.ReLU())\n",
    "\n",
    "        layers.append(Linear_fw(layer_size, num_classes))\n",
    "        layers.append(nn.ReLU())\n",
    "\n",
    "        return layers\n",
    "    \n",
    "    def _update_weight(self, weight, update_value):\n",
    "            weight.fast = weight * update_value"
   ]
  },
  {
   "cell_type": "code",
   "execution_count": null,
   "metadata": {},
   "outputs": [],
   "source": [
    "mlp = MLP_FW(768, 4, 128, 5)"
   ]
  },
  {
   "cell_type": "code",
   "execution_count": null,
   "metadata": {},
   "outputs": [],
   "source": [
    "input_embedding = torch.rand((1,5*768))"
   ]
  },
  {
   "cell_type": "code",
   "execution_count": null,
   "metadata": {},
   "outputs": [],
   "source": [
    "hypernet = Hypernetwork(input_size=5*768, num_layers=4, layer_size=500, chunk_size=128, chunk_emb_size=8, num_chunks=129*2)"
   ]
  },
  {
   "cell_type": "code",
   "execution_count": null,
   "metadata": {},
   "outputs": [],
   "source": [
    "updates = hypernet(input_embedding)"
   ]
  },
  {
   "cell_type": "code",
   "execution_count": null,
   "metadata": {},
   "outputs": [],
   "source": [
    "for k, weight in enumerate(list(mlp.parameters())[2:-2]):\n",
    "    update_value = updates[k]\n",
    "    mlp._update_weight(weight, update_value)"
   ]
  }
 ],
 "metadata": {
  "language_info": {
   "name": "python"
  }
 },
 "nbformat": 4,
 "nbformat_minor": 2
}
